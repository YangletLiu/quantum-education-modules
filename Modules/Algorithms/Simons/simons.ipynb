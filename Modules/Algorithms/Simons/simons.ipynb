{
 "cells": [
  {
   "cell_type": "markdown",
   "id": "6dce949e-28fc-4a3c-8431-329d8bbecbe9",
   "metadata": {},
   "source": [
    "# Simon's Algorithm\n",
    "\n",
    "Simon's algorithm is the first quantum algorithm to offer an exponential speedup over the best-known classical algorithm for Simon's problem.\n",
    "\n",
    "1. [Problem Statement](#1.-Problem-Statement)\n",
    "2. [Quantum Solution](#2.-Quantum-Solution)\n",
    "3. [Qiskit Implementation](#3.-Qiskit-Implementation)\n",
    "4. [Firsthand Experience with ibm_rensselaer](#4.-Firsthand-Experience-with-ibm_rensselaer)"
   ]
  },
  {
   "cell_type": "markdown",
   "id": "b651bcb8-eb65-4c9b-a104-f5064c27e34c",
   "metadata": {},
   "source": [
    "## 1. Problem Statement\n",
    "\n",
    "Simon's problem involves finding a secret $n$-bit string, $s$, by querying an oracle that maps two distinct inputs to one unique output (a **two-to-one** function). \n",
    "\n",
    "The oracle takes an $n$-bit string $x = x_{n-1}\\ldots x_1x_0$ as input and outputs an $n$-bit string $f(x)=f_{n-1}\\ldots f_1f_0$. The oracle promises that: \n",
    "\n",
    "$$f(x)=f(y)$$\n",
    "\n",
    "where $y = x \\oplus s$ and $\\oplus$ denotes a bitwise $\\text{XOR}$.\n",
    "\n",
    "In other words, for every output value $f(x)$, there exists exactly two distinct inputs $x$ and $y$ such that their $\\text{XOR}$ difference is the unknown string $s$ ($x \\oplus  y = s$).\n",
    "\n",
    "Our goal is to determine the unknown string $s$ by querying the oracle.\n",
    "\n",
    "### 1.1 Example\n",
    "\n",
    "Consider the following simple example with $n = 3$ and the secret string $s = 110$.\n",
    "\n",
    "\n",
    "| $x$  | $f(x\\oplus s)$|\n",
    "| :-:  |     :-:     |\n",
    "| 000  |     101     |\n",
    "| 001  |     010     |\n",
    "| 010  |     011     |\n",
    "| 011  |     100     |\n",
    "| 100  |     011     |\n",
    "| 101  |     100     |\n",
    "| 110  |     101     |\n",
    "| 111  |     010     |\n",
    "\n",
    "Notice that inputs $x = 000$ and $x = 110$ will produce the same output $f(x\\oplus s) = 101$. This produces a *collision*, i.e. two inputs map to the same output.\n",
    "\n",
    "The same relationship exists for $x = 001 = 111$, $x = 010 = 100$, and $x = 011 = 101$.\n",
    "\n",
    "### 1.2 Classical Solution\n",
    "\n",
    "If we find a collision, we can find the hidden string $s$ by taking the $\\text{XOR}$ of the two inputs: \n",
    "\n",
    "$$x \\oplus y = 000 \\oplus 110 = 110 = s$$\n",
    "\n",
    "One classical approach is the brute-force method, where you try each input one-by-one to find a collision. In the worst case, you could try half the inputs $(2^{n-1})$ before finding a collision.\n",
    "\n",
    "For the best randomized classical algorithm, the number of queries is $2^{\\frac{n}{2}}$, which is still exponential."
   ]
  },
  {
   "cell_type": "markdown",
   "id": "e7338992-f7f7-4cee-92c7-a70d477a1350",
   "metadata": {},
   "source": [
    "## 2. Quantum Solution\n",
    "\n",
    "For Simon's algorithm, we need $n$ input qubits and $n$ answer qubits. In Deutsch's and Bernstein's algorithm, the answer qubits begin in the $\\ket{-}$ state. Here, we will begin all qubits in the $\\ket{0}$ state. In this example, the secret string $s = 110$.\n",
    "\n",
    "<center><img src=\"simons_images/simon_circuit.png\"></img></center>\n",
    "\n",
    "### 2.1 IBM Quantum Composer\n",
    "\n",
    "IBM Quantum Composer: https://quantum.ibm.com/composer/\n",
    "\n",
    "#### 2.1.1 Preprocessing\n",
    "\n",
    "We apply Hadamards to all input qubits.\n",
    "\n",
    "<center><img src=\"simons_images/preprocessing.png\"></img></center>\n",
    "\n",
    "#### 2.1.2 Oracle\n",
    "\n",
    "Then we apply the oracle. There are many ways to implement a two-to-one function. In this approach, we split the inputs into two groups based on the index of a chosen flag bit. For all inputs $x$, if the bit at that index is $1$, we $\\text{XOR}$ the input string with $s$. Since we want $s$ to map to the zero string, we identify the index of the first bit in $s$ that is a $1$ to be the flag. \n",
    "\n",
    "Given IBM's reverse qubit ordering, the secret string $s = 110 \\rightarrow s_{reverse} = 011$. In this case, the index of the chosen flag bit would be $2$.\n",
    "\n",
    "| $x$  | $f(x\\oplus s)$|\n",
    "| :-:  |     :-:     |\n",
    "| 000  |     000     |\n",
    "| 001  |     001     |\n",
    "| 010  |     011     |\n",
    "| 011  |     100     |\n",
    "| 100  |     011     |\n",
    "| 101  |     100     |\n",
    "| 110  |     101     |\n",
    "| 111  |     010     |\n",
    "\n",
    "<center><img src=\"simons_images/oracle.png\"></img></center>\n",
    "\n",
    "#### 2.1.3 Postprocessing\n",
    "\n",
    "Finally, apply Hadamards to all input qubits again.\n",
    "\n",
    "<center><img src=\"simons_images/\"></img></center>"
   ]
  },
  {
   "cell_type": "markdown",
   "id": "413b297d-2f0e-4b20-ba65-629656784315",
   "metadata": {},
   "source": [
    "## 3. Qiskit Implementation\n",
    "\n",
    "### Imports"
   ]
  },
  {
   "cell_type": "code",
   "execution_count": null,
   "id": "c68b35c7-a91d-4262-865f-c2a1ac109015",
   "metadata": {},
   "outputs": [],
   "source": [
    "%pip install qiskit\n",
    "%pip install qiskit_ibm_runtime\n",
    "%pip install qiskit_aer\n",
    "%pip install numpy"
   ]
  },
  {
   "cell_type": "code",
   "execution_count": 1,
   "id": "18e2eff1-2271-463e-ac06-2bdada7dd5e2",
   "metadata": {},
   "outputs": [
    {
     "name": "stdout",
     "output_type": "stream",
     "text": [
      "1.2.4\n"
     ]
    }
   ],
   "source": [
    "import qiskit\n",
    "print(qiskit.version.get_version_info())"
   ]
  },
  {
   "cell_type": "markdown",
   "id": "4ceb6ea7-cc45-496b-99cb-9d68460ef194",
   "metadata": {},
   "source": [
    "### 3.1 Circuit Construction"
   ]
  },
  {
   "cell_type": "code",
   "execution_count": 54,
   "id": "6e3317d5-c6a0-40de-84d9-e283063866fa",
   "metadata": {},
   "outputs": [
    {
     "data": {
      "image/png": "[encoded data removed]",
      "text/plain": [
       "<Figure size 172.498x371.233 with 1 Axes>"
      ]
     },
     "execution_count": 54,
     "metadata": {},
     "output_type": "execute_result"
    }
   ],
   "source": [
    "from qiskit import QuantumCircuit\n",
    "\n",
    "# Preprocessing\n",
    "# Select a secret bit string\n",
    "s = '110'\n",
    "\n",
    "# Number of qubits to represent s\n",
    "num_qubits = num_bits = len(s)\n",
    "\n",
    "# Create a circuit with num_qubits + ancilla, and num_bits\n",
    "qc = QuantumCircuit(2 * num_qubits, 2 * num_bits)\n",
    "\n",
    "# Apply Hadamards to all input qubits\n",
    "qc.h(range(num_qubits, 2 * num_qubits))\n",
    "\n",
    "qc.barrier()\n",
    "\n",
    "qc.draw(output=\"mpl\", scale=0.6)"
   ]
  },
  {
   "cell_type": "code",
   "execution_count": 55,
   "id": "781aa370-142b-4619-a1a3-882c7470054b",
   "metadata": {},
   "outputs": [
    {
     "data": {
      "image/png": "[encoded data removed]",
      "text/plain": [
       "<Figure size 473.498x371.233 with 1 Axes>"
      ]
     },
     "execution_count": 55,
     "metadata": {},
     "output_type": "execute_result"
    }
   ],
   "source": [
    "# Oracle        \n",
    "# Reverse s to fit Qiskit's qubit ordering (bottom up 110101 -> top down 101011)\n",
    "reverse_s = s[::-1]\n",
    "\n",
    "flag_bit = reverse_s.find(\"1\")\n",
    "\n",
    "# |x>|0> -> |x>|x>\n",
    "# for q in range(num_qubits):\n",
    "#     qc.cx(q, q + num_qubits)\n",
    "for q in range(num_qubits):\n",
    "    qc.cx(q + num_qubits, q)\n",
    "\n",
    "# |x> -> |x ⊕ s> \n",
    "# if flag_bit != -1:\n",
    "#     for q in range(num_qubits):\n",
    "#         if reverse_s[q] == '1':\n",
    "#             qc.cx(flag_bit, q + num_qubits)\n",
    "\n",
    "if flag_bit != -1:\n",
    "    for q in range(num_qubits):\n",
    "        if s[q] == '1':\n",
    "            qc.cx(2 * num_qubits - (flag_bit + 1), q)\n",
    "\n",
    "qc.barrier()\n",
    "\n",
    "qc.draw(output=\"mpl\", scale=0.6)"
   ]
  },
  {
   "cell_type": "code",
   "execution_count": 56,
   "id": "917deb40-89a8-4cc7-83b0-878fd0baf10f",
   "metadata": {},
   "outputs": [
    {
     "data": {
      "image/png": "[encoded data removed]",
      "text/plain": [
       "<Figure size 674.164x371.233 with 1 Axes>"
      ]
     },
     "execution_count": 56,
     "metadata": {},
     "output_type": "execute_result"
    }
   ],
   "source": [
    "# Post processing and measurement\n",
    "# Apply Hadamards to all input qubits\n",
    "qc.h(range(num_qubits, 2 * num_qubits))\n",
    "\n",
    "# Measure all qubits\n",
    "for q in range(num_qubits, 2 * num_qubits):\n",
    "    qc.measure(q, q)\n",
    "\n",
    "qc.draw(output=\"mpl\", scale=0.6)"
   ]
  },
  {
   "cell_type": "markdown",
   "id": "6afd4581-1ea2-4fba-9231-d54dd9035fd2",
   "metadata": {},
   "source": [
    "### 3.2 Running on a Simulator\n",
    "\n",
    "First, we initialize a StatevectorSampler primitive that classically simulates the execution of quantum circuits. Then, we run the primitive with 4096 shots and retrieve its results."
   ]
  },
  {
   "cell_type": "code",
   "execution_count": 58,
   "id": "d14780bd-abd1-4a2e-8c2f-d3c5736c3ae8",
   "metadata": {},
   "outputs": [
    {
     "name": "stdout",
     "output_type": "stream",
     "text": [
      "The counts are: {'011000': 1015, '000000': 1025, '111000': 1011, '100000': 1045}\n"
     ]
    },
    {
     "data": {
      "image/png": "[encoded data removed]",
      "text/plain": [
       "<Figure size 640x480 with 1 Axes>"
      ]
     },
     "execution_count": 58,
     "metadata": {},
     "output_type": "execute_result"
    }
   ],
   "source": [
    "# Running on Simulator\n",
    "from qiskit.primitives import StatevectorSampler\n",
    "from qiskit.visualization import plot_histogram\n",
    "\n",
    "sampler = StatevectorSampler()\n",
    "\n",
    "sim_qc = qc\n",
    "\n",
    "# Run using sampler\n",
    "result = sampler.run([sim_qc], shots=4096).result()\n",
    "\n",
    "# Get counts for the classical register \"c\"\n",
    "counts = result[0].data.c.get_counts()\n",
    "print(f\"The counts are: {counts}\")\n",
    "\n",
    "plot_histogram(counts)"
   ]
  },
  {
   "cell_type": "markdown",
   "id": "eeb86517-e680-4f52-b61a-666af747714a",
   "metadata": {},
   "source": [
    "## 4. Firsthand Experience with ibm_rensselaer\n",
    "\n",
    "As usual, we initialize the ``QiskitRuntimeService`` to interact with IBM Quantum resources.\n",
    "\n",
    "If you have not already, use the following snippet to log in and save your IBM Quantum account credentials for future use. Replace the ``token`` with your own API token available when you log in at https://quantum.ibm.com/."
   ]
  },
  {
   "cell_type": "code",
   "execution_count": null,
   "id": "4d6795fc-1ebb-4ade-afcd-904ab75d0305",
   "metadata": {},
   "outputs": [],
   "source": [
    "from qiskit_ibm_runtime import QiskitRuntimeService\n",
    "\n",
    "# QiskitRuntimeService.save_account(\n",
    "#     channel=\"ibm_quantum\",\n",
    "#     token=\"token\",\n",
    "#     set_as_default=True,\n",
    "#     # Use 'overwrite=True' if you're updating your token.\n",
    "#     overwrite=True,\n",
    "# )"
   ]
  },
  {
   "cell_type": "code",
   "execution_count": null,
   "id": "a0a74dec-15e2-4d6f-80c7-bb3a9649222a",
   "metadata": {},
   "outputs": [],
   "source": [
    "service = QiskitRuntimeService()\n",
    "\n",
    "# Should be \"ibm_rensselaer\". If not and you have access to the computer, comment this out and set the backend manually.\n",
    "# backend = service.least_busy(operational=True, simulator=False)\n",
    "# print(backend.name)\n",
    "\n",
    "backend = service.backend(\"ibm_rensselaer\")\n",
    "print(backend.name)"
   ]
  },
  {
   "cell_type": "markdown",
   "id": "a33929da-65f2-452b-badd-d7ba8b321166",
   "metadata": {},
   "source": [
    "We use a preset pass manager with minimal options to transpile our current Bernstein circuit into the basis gates of the backend we are using, ``ibm_rensselaer``. \\\n",
    "Then, we initialize a Sampler with the backend to execute the circuit on ``ibm_rensselaer``. This should take a couple of seconds."
   ]
  },
  {
   "cell_type": "code",
   "execution_count": null,
   "id": "c2905086-b9a0-4b62-b5db-90d7749be9fa",
   "metadata": {},
   "outputs": [],
   "source": [
    "from qiskit.transpiler.preset_passmanagers import generate_preset_pass_manager\n",
    "\n",
    "pm = generate_preset_pass_manager(target=backend.target, optimization_level=1)\n",
    "\n",
    "isa_circuit = pm.run(qc)\n",
    "# isa_circuit.draw(output='mpl',scale=0.5)"
   ]
  },
  {
   "cell_type": "code",
   "execution_count": null,
   "id": "229e63b3-b404-4a79-9bad-c528fc7b203f",
   "metadata": {},
   "outputs": [],
   "source": [
    "from qiskit_ibm_runtime import SamplerV2 as Sampler\n",
    "\n",
    "sampler = Sampler(mode=backend)\n",
    "job = sampler.run([isa_circuit], shots=4096)\n",
    "job_result = job.result()\n",
    "counts = job_result[0].data.c.get_counts()\n",
    "\n",
    "print(f\"The counts are: {counts}\")\n",
    "plot_histogram(counts)"
   ]
  },
  {
   "cell_type": "code",
   "execution_count": null,
   "id": "750e0071-a549-4cc6-90cd-047e6d3c087d",
   "metadata": {},
   "outputs": [],
   "source": [
    "import numpy as np\n",
    "\n",
    "# Set filtering threshold to be 1% of the default number of shots (4096)\n",
    "threshold = int(0.01 * 4096)\n",
    "filteredAnswer = {k: v for k,v in counts.items() if v >= threshold}\n",
    "\n",
    "print(\"Secret s:\", s)\n",
    "\n",
    "plot_histogram(filteredAnswer)"
   ]
  }
 ],
 "metadata": {
  "kernelspec": {
   "display_name": "Python 3 (ipykernel)",
   "language": "python",
   "name": "python3"
  },
  "language_info": {
   "codemirror_mode": {
    "name": "ipython",
    "version": 3
   },
   "file_extension": ".py",
   "mimetype": "text/x-python",
   "name": "python",
   "nbconvert_exporter": "python",
   "pygments_lexer": "ipython3",
   "version": "3.11.9"
  }
 },
 "nbformat": 4,
 "nbformat_minor": 5
}
