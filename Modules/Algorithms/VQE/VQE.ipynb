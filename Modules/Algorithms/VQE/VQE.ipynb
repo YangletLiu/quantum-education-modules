{
 "cells": [
  {
   "cell_type": "markdown",
   "metadata": {},
   "source": [
    "# Variational Quantum Eigensolver Algorithm Anaylsis for DDOS Mitigation\n",
    "\n",
    "VQE significantly enhances the efficiency of finding the ground state energy of a Hamiltonian\n",
    "\n",
    "1. [Overview](#1.-Introduction)\n",
    "2. [VQE Algorithm](#1.-Introduction)\n",
    "3. [Qiskit Implementation](#3.-Quantum-Fourier-Transform)\n",
    "4. [Circuit Construction](#4.-Circuit-Construction)\n",
    "5. [Execution](#5.-Execution)\n",
    "6. [Post Processing](#6.-Post-Processing)"
   ]
  },
  {
   "cell_type": "markdown",
   "metadata": {},
   "source": [
    "## 1. Overview\n",
    "\n",
    "#### Problem Statement\n",
    "\n",
    "This problem involves finding the minimum eigenvalue (ground state energy) of a given Hamiltonian efficiently.\n",
    "Classically, diagonalizing large Hamiltonians is computationally expensive. VQE leverages quantum computing\n",
    "and classical optimization to approximate the ground state energy.\n",
    "\n",
    "Given a parameterized Hamiltonian $H(x)$, the goal is to estimate its lowest eigenvalue $\\lambda$.\n",
    "\n",
    "\n",
    "Executing a VQE algorithm requires the following components:\n",
    "\n",
    "1. Hamiltonian and ansatz (problem specification)\n",
    "2. Qiskit Runtime estimator\n",
    "3. Classical optimizer\n"
   ]
  },
  {
   "cell_type": "markdown",
   "metadata": {},
   "source": [
    "### Ansatz\n"
   ]
  },
  {
   "cell_type": "markdown",
   "metadata": {},
   "source": [
    "### Cost Fuction\n",
    "It is the cost function that the VQE minimizes to find the group state energy to find the most optimal quantum state.\n",
    "$$\n",
    "E(\\theta) = \\ket{{\\psi(\\theta)}H{\\psi}(\\theta)}\n",
    "$$\n",
    "\n",
    "$E(\\theta)$ represents the expected energy of the quantum state ${\\psi(\\theta)}$\n",
    "\n",
    "H is the Hamiltonian matrix\n",
    "\n",
    "${\\psi(\\theta)} $ is the parametricized ansatz\n"
   ]
  },
  {
   "cell_type": "markdown",
   "metadata": {},
   "source": [
    "# 3. Qiskit Implementation"
   ]
  },
  {
   "cell_type": "markdown",
   "metadata": {},
   "source": [
    "#### 3.1 Imports"
   ]
  },
  {
   "cell_type": "code",
   "execution_count": null,
   "metadata": {},
   "outputs": [],
   "source": [
    "%pip install numpy\n",
    "%pip install qiskit\n",
    "%pip install qiskit_ibm_runtime\n",
    "%pip install qiskit_aer\n",
    "%pip install qiskit[visualization]"
   ]
  },
  {
   "cell_type": "code",
   "execution_count": 11,
   "metadata": {},
   "outputs": [
    {
     "ename": "ImportError",
     "evalue": "cannot import name 'BaseSampler' from 'qiskit.primitives' (c:\\Users\\carol\\miniconda3\\envs\\cwq\\Lib\\site-packages\\qiskit\\primitives\\__init__.py)",
     "output_type": "error",
     "traceback": [
      "\u001b[31m---------------------------------------------------------------------------\u001b[39m",
      "\u001b[31mImportError\u001b[39m                               Traceback (most recent call last)",
      "\u001b[36mCell\u001b[39m\u001b[36m \u001b[39m\u001b[32mIn[11]\u001b[39m\u001b[32m, line 14\u001b[39m\n\u001b[32m     11\u001b[39m \u001b[38;5;66;03m# Plotting functions\u001b[39;00m\n\u001b[32m     12\u001b[39m \u001b[38;5;28;01mimport\u001b[39;00m\u001b[38;5;250m \u001b[39m\u001b[34;01mmatplotlib\u001b[39;00m\u001b[34;01m.\u001b[39;00m\u001b[34;01mpyplot\u001b[39;00m\u001b[38;5;250m \u001b[39m\u001b[38;5;28;01mas\u001b[39;00m\u001b[38;5;250m \u001b[39m\u001b[34;01mplt\u001b[39;00m\n\u001b[32m---> \u001b[39m\u001b[32m14\u001b[39m \u001b[38;5;28;01mfrom\u001b[39;00m\u001b[38;5;250m \u001b[39m\u001b[34;01mqiskit_algorithms\u001b[39;00m\u001b[34;01m.\u001b[39;00m\u001b[34;01mminimum_eigensolvers\u001b[39;00m\u001b[38;5;250m \u001b[39m\u001b[38;5;28;01mimport\u001b[39;00m VQE\n\u001b[32m     15\u001b[39m \u001b[38;5;28;01mfrom\u001b[39;00m\u001b[38;5;250m \u001b[39m\u001b[34;01mqiskit\u001b[39;00m\u001b[34;01m.\u001b[39;00m\u001b[34;01mprimitives\u001b[39;00m\u001b[38;5;250m \u001b[39m\u001b[38;5;28;01mimport\u001b[39;00m Estimator\n\u001b[32m     17\u001b[39m \u001b[38;5;66;03m# from qiskit_algorithms.optimizers import COBYLA, L_BFGS_B, SLSQP, P_BFGS, SPSA, QNSPSA, BOBYQA\u001b[39;00m\n\u001b[32m     18\u001b[39m \u001b[38;5;66;03m# from qiskit_algorithms.utils import algorithm_globals\u001b[39;00m\n\u001b[32m     19\u001b[39m \u001b[38;5;66;03m# # from qiskit.primitives import Estimator, BaseEstimatorV2\u001b[39;00m\n\u001b[32m     20\u001b[39m \u001b[38;5;66;03m# from qiskit_ibm_runtime import SamplerV2, EstimatorV2\u001b[39;00m\n\u001b[32m     21\u001b[39m \u001b[38;5;66;03m# from qiskit_ibm_runtime import Session\u001b[39;00m\n",
      "\u001b[36mFile \u001b[39m\u001b[32mc:\\Users\\carol\\miniconda3\\envs\\cwq\\Lib\\site-packages\\qiskit_algorithms\\__init__.py:254\u001b[39m\n\u001b[32m    252\u001b[39m \u001b[38;5;28;01mfrom\u001b[39;00m\u001b[38;5;250m \u001b[39m\u001b[34;01m.\u001b[39;00m\u001b[34;01malgorithm_job\u001b[39;00m\u001b[38;5;250m \u001b[39m\u001b[38;5;28;01mimport\u001b[39;00m AlgorithmJob\n\u001b[32m    253\u001b[39m \u001b[38;5;28;01mfrom\u001b[39;00m\u001b[38;5;250m \u001b[39m\u001b[34;01m.\u001b[39;00m\u001b[34;01malgorithm_result\u001b[39;00m\u001b[38;5;250m \u001b[39m\u001b[38;5;28;01mimport\u001b[39;00m AlgorithmResult\n\u001b[32m--> \u001b[39m\u001b[32m254\u001b[39m \u001b[38;5;28;01mfrom\u001b[39;00m\u001b[38;5;250m \u001b[39m\u001b[34;01m.\u001b[39;00m\u001b[34;01mvariational_algorithm\u001b[39;00m\u001b[38;5;250m \u001b[39m\u001b[38;5;28;01mimport\u001b[39;00m VariationalAlgorithm, VariationalResult\n\u001b[32m    255\u001b[39m \u001b[38;5;28;01mfrom\u001b[39;00m\u001b[38;5;250m \u001b[39m\u001b[34;01m.\u001b[39;00m\u001b[34;01mamplitude_amplifiers\u001b[39;00m\u001b[38;5;250m \u001b[39m\u001b[38;5;28;01mimport\u001b[39;00m Grover, GroverResult, AmplificationProblem, AmplitudeAmplifier\n\u001b[32m    256\u001b[39m \u001b[38;5;28;01mfrom\u001b[39;00m\u001b[38;5;250m \u001b[39m\u001b[34;01m.\u001b[39;00m\u001b[34;01mamplitude_estimators\u001b[39;00m\u001b[38;5;250m \u001b[39m\u001b[38;5;28;01mimport\u001b[39;00m (\n\u001b[32m    257\u001b[39m     AmplitudeEstimator,\n\u001b[32m    258\u001b[39m     AmplitudeEstimatorResult,\n\u001b[32m   (...)\u001b[39m\u001b[32m    267\u001b[39m     EstimationProblem,\n\u001b[32m    268\u001b[39m )\n",
      "\u001b[36mFile \u001b[39m\u001b[32mc:\\Users\\carol\\miniconda3\\envs\\cwq\\Lib\\site-packages\\qiskit_algorithms\\variational_algorithm.py:36\u001b[39m\n\u001b[32m     33\u001b[39m \u001b[38;5;28;01mfrom\u001b[39;00m\u001b[38;5;250m \u001b[39m\u001b[34;01mqiskit\u001b[39;00m\u001b[34;01m.\u001b[39;00m\u001b[34;01mcircuit\u001b[39;00m\u001b[38;5;250m \u001b[39m\u001b[38;5;28;01mimport\u001b[39;00m QuantumCircuit\n\u001b[32m     35\u001b[39m \u001b[38;5;28;01mfrom\u001b[39;00m\u001b[38;5;250m \u001b[39m\u001b[34;01m.\u001b[39;00m\u001b[34;01malgorithm_result\u001b[39;00m\u001b[38;5;250m \u001b[39m\u001b[38;5;28;01mimport\u001b[39;00m AlgorithmResult\n\u001b[32m---> \u001b[39m\u001b[32m36\u001b[39m \u001b[38;5;28;01mfrom\u001b[39;00m\u001b[38;5;250m \u001b[39m\u001b[34;01m.\u001b[39;00m\u001b[34;01moptimizers\u001b[39;00m\u001b[38;5;250m \u001b[39m\u001b[38;5;28;01mimport\u001b[39;00m OptimizerResult\n\u001b[32m     39\u001b[39m \u001b[38;5;28;01mclass\u001b[39;00m\u001b[38;5;250m \u001b[39m\u001b[34;01mVariationalAlgorithm\u001b[39;00m(ABC):\n\u001b[32m     40\u001b[39m \u001b[38;5;250m    \u001b[39m\u001b[33;03m\"\"\"The Variational Algorithm Base Class.\"\"\"\u001b[39;00m\n",
      "\u001b[36mFile \u001b[39m\u001b[32mc:\\Users\\carol\\miniconda3\\envs\\cwq\\Lib\\site-packages\\qiskit_algorithms\\optimizers\\__init__.py:139\u001b[39m\n\u001b[32m    137\u001b[39m \u001b[38;5;28;01mfrom\u001b[39;00m\u001b[38;5;250m \u001b[39m\u001b[34;01m.\u001b[39;00m\u001b[34;01mp_bfgs\u001b[39;00m\u001b[38;5;250m \u001b[39m\u001b[38;5;28;01mimport\u001b[39;00m P_BFGS\n\u001b[32m    138\u001b[39m \u001b[38;5;28;01mfrom\u001b[39;00m\u001b[38;5;250m \u001b[39m\u001b[34;01m.\u001b[39;00m\u001b[34;01mpowell\u001b[39;00m\u001b[38;5;250m \u001b[39m\u001b[38;5;28;01mimport\u001b[39;00m POWELL\n\u001b[32m--> \u001b[39m\u001b[32m139\u001b[39m \u001b[38;5;28;01mfrom\u001b[39;00m\u001b[38;5;250m \u001b[39m\u001b[34;01m.\u001b[39;00m\u001b[34;01mqnspsa\u001b[39;00m\u001b[38;5;250m \u001b[39m\u001b[38;5;28;01mimport\u001b[39;00m QNSPSA\n\u001b[32m    140\u001b[39m \u001b[38;5;28;01mfrom\u001b[39;00m\u001b[38;5;250m \u001b[39m\u001b[34;01m.\u001b[39;00m\u001b[34;01mscipy_optimizer\u001b[39;00m\u001b[38;5;250m \u001b[39m\u001b[38;5;28;01mimport\u001b[39;00m SciPyOptimizer\n\u001b[32m    141\u001b[39m \u001b[38;5;28;01mfrom\u001b[39;00m\u001b[38;5;250m \u001b[39m\u001b[34;01m.\u001b[39;00m\u001b[34;01mslsqp\u001b[39;00m\u001b[38;5;250m \u001b[39m\u001b[38;5;28;01mimport\u001b[39;00m SLSQP\n",
      "\u001b[36mFile \u001b[39m\u001b[32mc:\\Users\\carol\\miniconda3\\envs\\cwq\\Lib\\site-packages\\qiskit_algorithms\\optimizers\\qnspsa.py:23\u001b[39m\n\u001b[32m     20\u001b[39m \u001b[38;5;28;01mimport\u001b[39;00m\u001b[38;5;250m \u001b[39m\u001b[34;01mnumpy\u001b[39;00m\u001b[38;5;250m \u001b[39m\u001b[38;5;28;01mas\u001b[39;00m\u001b[38;5;250m \u001b[39m\u001b[34;01mnp\u001b[39;00m\n\u001b[32m     21\u001b[39m \u001b[38;5;28;01mfrom\u001b[39;00m\u001b[38;5;250m \u001b[39m\u001b[34;01mqiskit\u001b[39;00m\u001b[34;01m.\u001b[39;00m\u001b[34;01mcircuit\u001b[39;00m\u001b[38;5;250m \u001b[39m\u001b[38;5;28;01mimport\u001b[39;00m QuantumCircuit\n\u001b[32m---> \u001b[39m\u001b[32m23\u001b[39m \u001b[38;5;28;01mfrom\u001b[39;00m\u001b[38;5;250m \u001b[39m\u001b[34;01mqiskit\u001b[39;00m\u001b[34;01m.\u001b[39;00m\u001b[34;01mprimitives\u001b[39;00m\u001b[38;5;250m \u001b[39m\u001b[38;5;28;01mimport\u001b[39;00m BaseSampler\n\u001b[32m     24\u001b[39m \u001b[38;5;28;01mfrom\u001b[39;00m\u001b[38;5;250m \u001b[39m\u001b[34;01mqiskit_algorithms\u001b[39;00m\u001b[34;01m.\u001b[39;00m\u001b[34;01mstate_fidelities\u001b[39;00m\u001b[38;5;250m \u001b[39m\u001b[38;5;28;01mimport\u001b[39;00m ComputeUncompute\n\u001b[32m     26\u001b[39m \u001b[38;5;28;01mfrom\u001b[39;00m\u001b[38;5;250m \u001b[39m\u001b[34;01m.\u001b[39;00m\u001b[34;01mspsa\u001b[39;00m\u001b[38;5;250m \u001b[39m\u001b[38;5;28;01mimport\u001b[39;00m SPSA, CALLBACK, TERMINATIONCHECKER, _batch_evaluate\n",
      "\u001b[31mImportError\u001b[39m: cannot import name 'BaseSampler' from 'qiskit.primitives' (c:\\Users\\carol\\miniconda3\\envs\\cwq\\Lib\\site-packages\\qiskit\\primitives\\__init__.py)"
     ]
    }
   ],
   "source": [
    "# General imports\n",
    "import numpy as np\n",
    "\n",
    "# # Pre-defined ansatz circuit and operator class for Hamiltonian\n",
    "from qiskit.circuit.library import EfficientSU2\n",
    "from qiskit.quantum_info import SparsePauliOp\n",
    "\n",
    "# SciPy minimizer routine\n",
    "from scipy.optimize import minimize\n",
    "\n",
    "# Plotting functions\n",
    "import matplotlib.pyplot as plt\n",
    "\n",
    "from qiskit_algorithms.minimum_eigensolvers import VQE\n",
    "from qiskit.primitives import Estimator\n",
    "    \n",
    "# from qiskit_algorithms.optimizers import COBYLA, L_BFGS_B, SLSQP, P_BFGS, SPSA, QNSPSA, BOBYQA\n",
    "# from qiskit_algorithms.utils import algorithm_globals\n",
    "# # from qiskit.primitives import Estimator, BaseEstimatorV2\n",
    "# from qiskit_ibm_runtime import SamplerV2, EstimatorV2\n",
    "# from qiskit_ibm_runtime import Session"
   ]
  },
  {
   "cell_type": "code",
   "execution_count": null,
   "metadata": {},
   "outputs": [],
   "source": [
    "# runtime imports\n",
    "from qiskit_ibm_runtime import QiskitRuntimeService, Session\n",
    "from qiskit_ibm_runtime import EstimatorV2 as Estimator\n",
    "\n",
    "# To run on hardware, select the backend with the fewest number of jobs in the queue\n",
    "service = QiskitRuntimeService(channel=\"ibm_quantum\")\n",
    "backend = service.least_busy(operational=True, simulator=False)"
   ]
  },
  {
   "cell_type": "code",
   "execution_count": null,
   "metadata": {},
   "outputs": [],
   "source": [
    "ansatz = EfficientSU2(hamiltonian.num_qubits)\n",
    "ansatz.decompose().draw(\"mpl\", style=\"iqp\")"
   ]
  },
  {
   "cell_type": "markdown",
   "metadata": {},
   "source": [
    "<img src=\"VQE_images/VQE_circuit.png\">"
   ]
  },
  {
   "cell_type": "markdown",
   "metadata": {},
   "source": [
    "### Example Hamiltonian "
   ]
  },
  {
   "cell_type": "code",
   "execution_count": null,
   "metadata": {},
   "outputs": [],
   "source": [
    "import SparsePauliOp\n",
    "\n",
    "# Example Hamiltonian: H = Z ⊗ I + I ⊗ Z + 0.5 * X ⊗ X\n",
    "H = SparsePauliOp([\"ZI\", \"IZ\", \"XX\"], coeffs=[1.0, 1.0, 0.5])\n"
   ]
  },
  {
   "cell_type": "code",
   "execution_count": null,
   "metadata": {},
   "outputs": [],
   "source": [
    "from qiskit.primitives import Estimator\n",
    "from qiskit_algorithms import VQE\n",
    "from qiskit_algorithms.optimizers import COBYLA\n",
    "\n",
    "estimator = Estimator()\n",
    "optimizer = COBYLA()\n",
    "\n",
    "vqe = VQE(estimator=estimator, ansatz=ansatz, optimizer=optimizer)\n",
    "result = vqe.compute_minimum_eigenvalue(operator=H)\n"
   ]
  },
  {
   "cell_type": "markdown",
   "metadata": {},
   "source": [
    "#### Cost function"
   ]
  },
  {
   "cell_type": "code",
   "execution_count": null,
   "metadata": {},
   "outputs": [],
   "source": [
    "vqe = VQE(estimatorV, vAnsatz, optimizer, callback=store_intermediate_result)\n",
    "result = vqe.compute_minimum_eigenvalue(operator=qubitOp)\n"
   ]
  },
  {
   "cell_type": "markdown",
   "metadata": {},
   "source": [
    "## 5. Execution"
   ]
  },
  {
   "cell_type": "code",
   "execution_count": null,
   "metadata": {},
   "outputs": [],
   "source": [
    "with Session(backend=backend) as session:\n",
    "    estimator = Estimator(mode=session)\n",
    "    estimator.options.default_shots = 10000\n",
    "\n",
    "    res = minimize(\n",
    "        cost_func,\n",
    "        x0,\n",
    "        args=(ansatz_isa, hamiltonian_isa, estimator),\n",
    "        method=\"cobyla\",\n",
    "    )"
   ]
  },
  {
   "cell_type": "markdown",
   "metadata": {},
   "source": [
    "## 6. Post-Processing"
   ]
  },
  {
   "cell_type": "code",
   "execution_count": null,
   "metadata": {},
   "outputs": [],
   "source": [
    "\n",
    "from qiskit import Aer\n",
    "from qiskit.circuit.library import TwoLocal\n",
    "from qiskit.opflow import PauliSumOp\n",
    "from qiskit.utils import QuantumInstance\n",
    "from qiskit.algorithms import VQE\n",
    "from qiskit.algorithms.optimizers import COBYLA\n",
    "import matplotlib.pyplot as plt\n",
    "\n",
    "# -----------------------------\n",
    "# A. Construct the Hamiltonian\n",
    "# -----------------------------\n",
    "hamiltonian = PauliSumOp.from_list([\n",
    "    (\"Z\", 1.0),     # Z ⊗ I\n",
    "    (\"IZ\", 0.5),    # I ⊗ Z\n",
    "    (\"ZZ\", 0.3)     # Z ⊗ Z\n",
    "])\n",
    "\n",
    "# -----------------------------\n",
    "# B. Build the Ansatz\n",
    "# -----------------------------\n",
    "ansatz = TwoLocal(num_qubits=2,\n",
    "                  rotation_blocks='ry',\n",
    "                  entanglement_blocks='cz',\n",
    "                  reps=2,\n",
    "                  insert_barriers=True)\n",
    "\n",
    "# -----------------------------\n",
    "# C. Choose Optimizer\n",
    "# -----------------------------\n",
    "optimizer = COBYLA(maxiter=100)\n",
    "\n",
    "# -----------------------------\n",
    "# D. Backend Setup\n",
    "# -----------------------------\n",
    "backend = Aer.get_backend('aer_simulator_statevector')\n",
    "quantum_instance = QuantumInstance(backend=backend, shots=1024)\n",
    "\n",
    "# -----------------------------\n",
    "# E. Define Callback for Iteration Tracking\n",
    "# -----------------------------\n",
    "energies = []\n",
    "\n",
    "def store_intermediate_result(eval_count, parameters, mean, std):\n",
    "    energies.append(mean)\n",
    "    print(f\"Iteration {eval_count}: Energy = {mean:.6f}\")\n",
    "\n",
    "# -----------------------------\n",
    "# F. Run VQE with Callback\n",
    "# -----------------------------\n",
    "vqe = VQE(ansatz=ansatz,\n",
    "          optimizer=optimizer,\n",
    "          quantum_instance=quantum_instance,\n",
    "          callback=store_intermediate_result)\n",
    "\n",
    "result = vqe.compute_minimum_eigenvalue(operator=hamiltonian)\n",
    "\n",
    "# ============================================================\n",
    "# Post-Processing and Plotting\n",
    "# ============================================================\n",
    "\n",
    "print(\"\\nFinal Estimated Ground State Energy:\", result.eigenvalue.real)\n",
    "print(\"Optimal Parameters (θ):\", result.optimal_point)\n",
    "\n",
    "# Plot energy convergence\n",
    "plt.figure(figsize=(10, 6))\n",
    "plt.plot(range(len(energies)), energies, marker='o')\n",
    "plt.xlabel(\"Iteration\")\n",
    "plt.ylabel(\"Energy\")\n",
    "plt.title(\"VQE Convergence Over Iterations\")\n",
    "plt.grid(True)\n",
    "plt.tight_layout()\n",
    "plt.show()"
   ]
  }
 ],
 "metadata": {
  "kernelspec": {
   "display_name": "cwq",
   "language": "python",
   "name": "python3"
  },
  "language_info": {
   "codemirror_mode": {
    "name": "ipython",
    "version": 3
   },
   "file_extension": ".py",
   "mimetype": "text/x-python",
   "name": "python",
   "nbconvert_exporter": "python",
   "pygments_lexer": "ipython3",
   "version": "3.13.2"
  }
 },
 "nbformat": 4,
 "nbformat_minor": 2
}
