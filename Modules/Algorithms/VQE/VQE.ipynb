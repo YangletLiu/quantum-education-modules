{
 "cells": [
  {
   "cell_type": "markdown",
   "metadata": {},
   "source": [
    "# Variational Quantum Eigensolver Algorithm\n",
    "\n",
    "VQE significantly enhances the efficiency of finding the ground state energy of a Hamiltonian\n",
    "\n",
    "1. [Overview](#1.-Introduction)\n",
    "2. [VQE Algorithm](#1.-Introduction)\n",
    "3. [Qiskit Implementation](#3.-Quantum-Fourier-Transform)\n",
    "4. [Circuit Construction](#4.-Circuit-Construction)\n",
    "5. [Execution](#5.-Execution)\n",
    "6. [Post Processing](#6.-Post-Processing)"
   ]
  },
  {
   "cell_type": "markdown",
   "metadata": {},
   "source": [
    "## 1. Overview\n",
    "\n",
    "#### Problem Statement\n",
    "\n",
    "This problem involves finding the minimum eigenvalue (ground state energy) of a given Hamiltonian efficiently.\n",
    "Classically, diagonalizing large Hamiltonians is computationally expensive. VQE leverages quantum computing\n",
    "and classical optimization to approximate the ground state energy.\n",
    "\n",
    "Given a parameterized Hamiltonian $H(x)$, the goal is to estimate its lowest eigenvalue $\\lambda$.\n",
    "\n",
    "\n",
    "Executing a VQE algorithm requires the following components:\n",
    "\n",
    "1. Hamiltonian and ansatz (problem specification)\n",
    "2. Qiskit Runtime estimator\n",
    "3. Classical optimizer\n"
   ]
  },
  {
   "cell_type": "markdown",
   "metadata": {},
   "source": [
    "### Ansatz\n"
   ]
  },
  {
   "cell_type": "markdown",
   "metadata": {},
   "source": [
    "### Cost Fuction\n",
    "It is the cost function that the VQE minimizes to find the group state energy to find the most optimal quantum state.\n",
    "$$\n",
    "E(\\theta) = \\ket{{\\psi(\\theta)}H{\\psi}(\\theta)}\n",
    "$$\n",
    "\n",
    "$E(\\theta)$ represents the expected energy of the quantum state ${\\psi(\\theta)}$\n",
    "\n",
    "H is the Hamiltonian matrix\n",
    "\n",
    "${\\psi(\\theta)} $ is the parametricized ansatz\n"
   ]
  },
  {
   "cell_type": "markdown",
   "metadata": {},
   "source": [
    "# 3. Qiskit Implementation"
   ]
  },
  {
   "cell_type": "markdown",
   "metadata": {},
   "source": [
    "#### 3.1 Imports"
   ]
  },
  {
   "cell_type": "code",
   "execution_count": null,
   "metadata": {},
   "outputs": [],
   "source": [
    "%pip install numpy\n",
    "%pip install qiskit\n",
    "%pip install qiskit_ibm_runtime\n",
    "%pip install qiskit_aer\n",
    "%pip install qiskit[visualization]"
   ]
  },
  {
   "cell_type": "code",
   "execution_count": 7,
   "metadata": {},
   "outputs": [],
   "source": [
    "# General imports\n",
    "import numpy as np\n",
    "\n",
    "# # Pre-defined ansatz circuit and operator class for Hamiltonian\n",
    "from qiskit.circuit.library import EfficientSU2\n",
    "from qiskit.quantum_info import SparsePauliOp\n",
    "\n",
    "# SciPy minimizer routine\n",
    "from scipy.optimize import minimize\n",
    "\n",
    "# Plotting functions\n",
    "import matplotlib.pyplot as plt\n",
    "\n",
    "# from qiskit_algorithms.minimum_eigensolvers import VQE\n",
    "# from qiskit.primitives import Estimator\n",
    "    \n",
    "# from qiskit_algorithms.optimizers import COBYLA, L_BFGS_B, SLSQP, P_BFGS, SPSA, QNSPSA, BOBYQA\n",
    "# from qiskit_algorithms.utils import algorithm_globals\n",
    "# # from qiskit.primitives import Estimator, BaseEstimatorV2\n",
    "# from qiskit_ibm_runtime import SamplerV2, EstimatorV2\n",
    "# from qiskit_ibm_runtime import Session"
   ]
  },
  {
   "cell_type": "code",
   "execution_count": null,
   "metadata": {},
   "outputs": [],
   "source": [
    "# runtime imports\n",
    "from qiskit_ibm_runtime import QiskitRuntimeService, Session\n",
    "from qiskit_ibm_runtime import EstimatorV2 as Estimator\n",
    "\n",
    "# To run on hardware, select the backend with the fewest number of jobs in the queue\n",
    "service = QiskitRuntimeService(channel=\"ibm_quantum\")\n",
    "backend = service.least_busy(operational=True, simulator=False)"
   ]
  },
  {
   "cell_type": "code",
   "execution_count": null,
   "metadata": {},
   "outputs": [],
   "source": [
    "ansatz = EfficientSU2(hamiltonian.num_qubits)\n",
    "ansatz.decompose().draw(\"mpl\", style=\"iqp\")"
   ]
  },
  {
   "cell_type": "markdown",
   "metadata": {},
   "source": [
    "<img src=\"VQE_images/VQE_circuit.png\">"
   ]
  },
  {
   "cell_type": "markdown",
   "metadata": {},
   "source": [
    "### Example Hamiltonian "
   ]
  },
  {
   "cell_type": "code",
   "execution_count": 3,
   "metadata": {},
   "outputs": [],
   "source": [
    "from qiskit.quantum_info import SparsePauliOp\n",
    "from qiskit.circuit.library import EfficientSU2\n",
    "from qiskit.quantum_info import SparsePauliOp"
   ]
  },
  {
   "cell_type": "code",
   "execution_count": 5,
   "metadata": {},
   "outputs": [
    {
     "data": {
      "image/png": "[encoded data removed]",
      "text/plain": [
       "<Figure size 1039.79x200.667 with 1 Axes>"
      ]
     },
     "execution_count": 5,
     "metadata": {},
     "output_type": "execute_result"
    }
   ],
   "source": [
    "# Example Hamiltonian: H = Z ⊗ I + I ⊗ Z + 0.5 * X ⊗ X\n",
    "hamiltonian = SparsePauliOp([\"ZI\", \"IZ\", \"XX\"], coeffs=[1.0, 1.0, 0.5])\n",
    "\n",
    "ansatz = EfficientSU2(hamiltonian.num_qubits)\n",
    "ansatz.decompose().draw(\"mpl\", style=\"iqp\")"
   ]
  },
  {
   "cell_type": "code",
   "execution_count": null,
   "metadata": {},
   "outputs": [],
   "source": [
    "from qiskit.primitives import Estimator\n",
    "from qiskit_algorithms import VQE\n",
    "from qiskit_algorithms.optimizers import COBYLA\n",
    "\n",
    "estimator = Estimator()\n",
    "optimizer = COBYLA()\n",
    "\n",
    "vqe = VQE(estimator=estimator, ansatz=ansatz, optimizer=optimizer)\n",
    "result = vqe.compute_minimum_eigenvalue(operator=H)\n"
   ]
  },
  {
   "cell_type": "markdown",
   "metadata": {},
   "source": [
    "#### Cost function"
   ]
  },
  {
   "cell_type": "code",
   "execution_count": null,
   "metadata": {},
   "outputs": [],
   "source": [
    "vqe = VQE(estimatorV, vAnsatz, optimizer, callback=store_intermediate_result)\n",
    "result = vqe.compute_minimum_eigenvalue(operator=qubitOp)\n"
   ]
  },
  {
   "cell_type": "markdown",
   "metadata": {},
   "source": [
    "## 5. Execution"
   ]
  },
  {
   "cell_type": "code",
   "execution_count": null,
   "metadata": {},
   "outputs": [],
   "source": [
    "with Session(backend=backend) as session:\n",
    "    estimator = Estimator(mode=session)\n",
    "    estimator.options.default_shots = 10000\n",
    "\n",
    "    res = minimize(\n",
    "        cost_func,\n",
    "        x0,\n",
    "        args=(ansatz_isa, hamiltonian_isa, estimator),\n",
    "        method=\"cobyla\",\n",
    "    )"
   ]
  },
  {
   "cell_type": "markdown",
   "metadata": {},
   "source": [
    "## 6. Post-Processing"
   ]
  },
  {
   "cell_type": "code",
   "execution_count": null,
   "metadata": {},
   "outputs": [],
   "source": [
    "\n",
    "from qiskit import Aer\n",
    "from qiskit.circuit.library import TwoLocal\n",
    "from qiskit.opflow import PauliSumOp\n",
    "from qiskit.utils import QuantumInstance\n",
    "from qiskit.algorithms import VQE\n",
    "from qiskit.algorithms.optimizers import COBYLA\n",
    "import matplotlib.pyplot as plt\n",
    "\n",
    "# -----------------------------\n",
    "# A. Construct the Hamiltonian\n",
    "# -----------------------------\n",
    "hamiltonian = PauliSumOp.from_list([\n",
    "    (\"Z\", 1.0),     # Z ⊗ I\n",
    "    (\"IZ\", 0.5),    # I ⊗ Z\n",
    "    (\"ZZ\", 0.3)     # Z ⊗ Z\n",
    "])\n",
    "\n",
    "# -----------------------------\n",
    "# B. Build the Ansatz\n",
    "# -----------------------------\n",
    "ansatz = TwoLocal(num_qubits=2,\n",
    "                  rotation_blocks='ry',\n",
    "                  entanglement_blocks='cz',\n",
    "                  reps=2,\n",
    "                  insert_barriers=True)\n",
    "\n",
    "# -----------------------------\n",
    "# C. Choose Optimizer\n",
    "# -----------------------------\n",
    "optimizer = COBYLA(maxiter=100)\n",
    "\n",
    "# -----------------------------\n",
    "# D. Backend Setup\n",
    "# -----------------------------\n",
    "backend = Aer.get_backend('aer_simulator_statevector')\n",
    "quantum_instance = QuantumInstance(backend=backend, shots=1024)\n",
    "\n",
    "# -----------------------------\n",
    "# E. Define Callback for Iteration Tracking\n",
    "# -----------------------------\n",
    "energies = []\n",
    "\n",
    "def store_intermediate_result(eval_count, parameters, mean, std):\n",
    "    energies.append(mean)\n",
    "    print(f\"Iteration {eval_count}: Energy = {mean:.6f}\")\n",
    "\n",
    "# -----------------------------\n",
    "# F. Run VQE with Callback\n",
    "# -----------------------------\n",
    "vqe = VQE(ansatz=ansatz,\n",
    "          optimizer=optimizer,\n",
    "          quantum_instance=quantum_instance,\n",
    "          callback=store_intermediate_result)\n",
    "\n",
    "result = vqe.compute_minimum_eigenvalue(operator=hamiltonian)\n",
    "\n",
    "# ============================================================\n",
    "# Post-Processing and Plotting\n",
    "# ============================================================\n",
    "\n",
    "print(\"\\nFinal Estimated Ground State Energy:\", result.eigenvalue.real)\n",
    "print(\"Optimal Parameters (θ):\", result.optimal_point)\n",
    "\n",
    "# Plot energy convergence\n",
    "plt.figure(figsize=(10, 6))\n",
    "plt.plot(range(len(energies)), energies, marker='o')\n",
    "plt.xlabel(\"Iteration\")\n",
    "plt.ylabel(\"Energy\")\n",
    "plt.title(\"VQE Convergence Over Iterations\")\n",
    "plt.grid(True)\n",
    "plt.tight_layout()\n",
    "plt.show()"
   ]
  }
 ],
 "metadata": {
  "kernelspec": {
   "display_name": "qiskit1_4",
   "language": "python",
   "name": "python3"
  },
  "language_info": {
   "codemirror_mode": {
    "name": "ipython",
    "version": 3
   },
   "file_extension": ".py",
   "mimetype": "text/x-python",
   "name": "python",
   "nbconvert_exporter": "python",
   "pygments_lexer": "ipython3",
   "version": "3.12.9"
  }
 },
 "nbformat": 4,
 "nbformat_minor": 2
}
